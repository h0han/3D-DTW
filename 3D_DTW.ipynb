{
 "cells": [
  {
   "cell_type": "code",
   "execution_count": 7,
   "id": "c13b464f",
   "metadata": {
    "scrolled": true
   },
   "outputs": [
    {
     "name": "stdout",
     "output_type": "stream",
     "text": [
      "DTW distance between hips_p_t and hips_p_u: 24.93\n",
      "DTW distance between sp_r_t and sp_r_u: 86.16\n",
      "DTW distance between sp1_r_t and sp1_r_u: 33.66\n",
      "DTW distance between sp2_r_t and sp2_r_u: 30.16\n",
      "DTW distance between neck_r_t and neck_r_u: 0.06\n"
     ]
    }
   ],
   "source": [
    "import numpy as np\n",
    "\n",
    "def euclidean_distance(coord1, coord2):\n",
    "    return np.sqrt(np.sum((coord1 - coord2) ** 2))\n",
    "\n",
    "def dtw_3d_coords(s, t, dist_func=euclidean_distance):\n",
    "    s_len, t_len = len(s), len(t)\n",
    "    dtw_matrix = np.zeros((s_len + 1, t_len + 1))\n",
    "    dtw_matrix[0, 1:] = np.inf\n",
    "    dtw_matrix[1:, 0] = np.inf\n",
    "\n",
    "    for i in range(1, s_len + 1):\n",
    "        for j in range(1, t_len + 1):\n",
    "            cost = dist_func(s[i - 1], t[j - 1])\n",
    "            dtw_matrix[i, j] = cost + min(dtw_matrix[i - 1, j], dtw_matrix[i, j - 1], dtw_matrix[i - 1, j - 1])\n",
    "\n",
    "    return dtw_matrix[-1, -1]\n",
    "\n",
    "if __name__ == \"__main__\":\n",
    "    hips_p_t = np.array([[-0.265214, 96.3262, -0.0845194], [-0.355846, 97.0575, -0.334083], [-0.228596, 97.9931, -0.724097],\n",
    "                  [0.108084, 98.8062, -1.22469], [0.4278, 99.206, -1.7904]])\n",
    "    hips_p_u = np.array([[0.371671, 99.117, -2.38103], [-0.308465, 98.699, -2.9749], [-1.50718, 98.2144, -3.57716],\n",
    "                  [-2.73483, 97.8824, -4.22504], [-3.38277, 97.7943, -4.98579], [-3.1386, 97.9268, -5.93031]])\n",
    "    \n",
    "    dtw_distance = dtw_3d_coords(hips_p_t, hips_p_u)\n",
    "    t = 'hips_p_t'\n",
    "    u = 'hips_p_u'\n",
    "    print(f\"DTW distance between {t} and {u}: {dtw_distance:.2f}\")\n",
    "    \n",
    "    sp_r_t = np.array([[3.02148, 5.94777, -13.3855], [3.44291, 5.63763, -11.52], [4.27901, 5.09118, -9.3149],\n",
    "                  [5.42504, 4.39477, -6.85622], [6.66878, 3.65366, -4.28969]])\n",
    "    sp_r_u = np.array([[7.87297, 2.88392, -1.76542], [9.13608, 2.02447, 0.630558], [10.7174, 1.04582, 2.8788],\n",
    "                  [12.7245, 0.0428178, 4.90735], [14.8264, -0.826937, 6.53313], [16.3717, -1.50591, 7.53882]])\n",
    "    \n",
    "    dtw_distance = dtw_3d_coords(sp_r_t, sp_r_u)\n",
    "    t = 'sp_r_t'\n",
    "    u = 'sp_r_u'\n",
    "    print(f\"DTW distance between {t} and {u}: {dtw_distance:.2f}\")\n",
    "    \n",
    "    sp1_r_t = np.array([[2.58861, 1.14972, -2.41349], [2.78206, 1.16948, -2.19293], [2.90798, 1.15871, -1.73726],\n",
    "                  [2.68154, 1.11045, -1.14465], [2.07447, 1.01767, -0.482949]])\n",
    "    sp1_r_u = np.array([[1.11496, 0.970686, 0.326259], [-0.160431, 0.931439, 1.21304], [-1.41796, 0.731581, 1.74311],\n",
    "                  [-2.44716, 0.68673, 2.34806], [-3.4635, 0.729783, 2.98637], [-4.44625, 0.823203, 3.61269]])\n",
    "    \n",
    "    dtw_distance = dtw_3d_coords(sp1_r_t, sp1_r_u)\n",
    "    t = 'sp1_r_t'\n",
    "    u = 'sp1_r_u'\n",
    "    print(f\"DTW distance between {t} and {u}: {dtw_distance:.2f}\")\n",
    "    \n",
    "    sp2_r_t = np.array([[2.20549, 0.975351, -2.35273], [2.36871, 0.986838, -2.1148], [2.45849, 0.982065, -1.69669],\n",
    "                  [2.24638, 0.946838, -1.18166], [1.71203, 0.880436, -0.616753]])\n",
    "    sp2_r_u = np.array([[0.848193, 0.908485, 0.0884693], [-0.572552, 0.803189, 1.06532], [-1.52188, 0.642561, 1.46176],\n",
    "                  [ -2.33905, 0.597447, 1.92085], [-3.15211, 0.621364, 2.41057], [-3.94248, 0.685592, 2.89236]])\n",
    "    \n",
    "    dtw_distance = dtw_3d_coords(sp2_r_t, sp2_r_u)\n",
    "    t = 'sp2_r_t'\n",
    "    u = 'sp2_r_u'\n",
    "    print(f\"DTW distance between {t} and {u}: {dtw_distance:.2f}\")\n",
    "    \n",
    "    neck_r_t = np.array([[-1.06722e-07, 9.60495e-07, 0], [1.06722e-07, -8.53774e-07, 0], [-8.00413e-07, -8.53774e-07, 0],\n",
    "                  [-8.53774e-07, -4.26887e-07, 0], [1.98785e-16, -4.26887e-07, 0]])\n",
    "    neck_r_u = np.array([[-0, 0, 0], [-0, 0, 0], [-8.44835e-16, 2.40124e-07, 0],\n",
    "                  [ -1.66753e-09, -5.33608e-08, 0.0559529], [1.33402e-08, 5.33609e-08, 0], [-2.66804e-08, -1.06722e-07, 0]])\n",
    "    \n",
    "    dtw_distance = dtw_3d_coords(neck_r_t, neck_r_u)\n",
    "    t = 'neck_r_t'\n",
    "    u = 'neck_r_u'\n",
    "    print(f\"DTW distance between {t} and {u}: {dtw_distance:.2f}\")"
   ]
  },
  {
   "cell_type": "code",
   "execution_count": 14,
   "id": "e66cfef6",
   "metadata": {},
   "outputs": [
    {
     "name": "stdout",
     "output_type": "stream",
     "text": [
      "[0.2886490250696379, 0.9993036211699164, 0.3899721448467966, 0.34935004642525536, 0.0]\n",
      "0.40545496750232124\n",
      "0.5945450324976788\n"
     ]
    }
   ],
   "source": [
    "lst = [24.93, 86.16, 33.66, 30.16, 0.06]\n",
    "mi = min(lst)\n",
    "ma = max(lst)\n",
    "buf = []\n",
    "\n",
    "for i in lst:\n",
    "    buf.append((i-mi)/ma)\n",
    "    \n",
    "print(buf)\n",
    "\n",
    "print(sum(buf)/len(buf))\n",
    "print(1-sum(buf)/len(buf))"
   ]
  },
  {
   "cell_type": "code",
   "execution_count": null,
   "id": "2cbdff0e",
   "metadata": {},
   "outputs": [],
   "source": []
  }
 ],
 "metadata": {
  "kernelspec": {
   "display_name": "Python 3 (ipykernel)",
   "language": "python",
   "name": "python3"
  },
  "language_info": {
   "codemirror_mode": {
    "name": "ipython",
    "version": 3
   },
   "file_extension": ".py",
   "mimetype": "text/x-python",
   "name": "python",
   "nbconvert_exporter": "python",
   "pygments_lexer": "ipython3",
   "version": "3.10.9"
  }
 },
 "nbformat": 4,
 "nbformat_minor": 5
}
